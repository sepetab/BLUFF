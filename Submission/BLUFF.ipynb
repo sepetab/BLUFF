{
  "nbformat": 4,
  "nbformat_minor": 0,
  "metadata": {
    "colab": {
      "name": "BLUFF.ipynb",
      "provenance": [],
      "collapsed_sections": [],
      "toc_visible": true
    },
    "kernelspec": {
      "name": "python3",
      "display_name": "Python 3"
    },
    "language_info": {
      "name": "python"
    }
  },
  "cells": [
    {
      "cell_type": "markdown",
      "source": [
        "# BLUFF: Sarcasm Detection on News Headlines\n",
        "\n",
        "This notebook analyses and compares the performance of 5 different models (word2vec, GloVe, fastText, ELMo and DistilBERT). Code used to train these models and provided in other notebooks (their prediction probabilities on the same test set were saved using `pickle` and loaded here for analysis)."
      ],
      "metadata": {
        "id": "khVal5uVGsPr"
      }
    },
    {
      "cell_type": "markdown",
      "source": [
        "## Problem Statement\n",
        "\n",
        "Sarcasm is a figure of speech and detecting its presence is an important part of natural language understanding. Depending on the context, sarcasm has the potential to flip the sentiment of a piece of text, having implications for key areas of NLP such as sentiment analysis.\n",
        "\n",
        "Literature shows sarcasm detection exercises have been conducted on social media content, for example detecting in saracsm in tweets.\n",
        "\n",
        "Satirical news companies such as The Onion (US based) or The Betoota Advocate (Australia based) publish sarcastic news articles, often in relation to current affairs. With a clean dataset of news headlines, we aim to construct a natural language model which can classify headlines to be either sarcastic or not sarcastic.\n",
        "\n",
        "There are several existing NLP methods that can be used for a sequence classification problem like these, including traditional word embedding methods like word2vec, GloVe, or fastText, contextual language embedding like ELMo, and transformer-based methods like BERT (what is considered state of the art).\n",
        "\n",
        "Our proposed method is to combine several of these into an ensemble model which improves on the performance of each individual model."
      ],
      "metadata": {
        "id": "e8tse_sgBx_N"
      }
    },
    {
      "cell_type": "markdown",
      "source": [
        "## Data Sources\n",
        "\n",
        "The dataset used was the [News Headlines Dataset for Sarcasm Detection](https://www.kaggle.com/datasets/rmisra/news-headlines-dataset-for-sarcasm-detection) found on Kaggle. This dataset contains headlines taken from HuffPost (not sarcastic) and The Onion (sarcastic). In comparison to tweets or other social media content, these headlines are high quality with no spelling or grammar errors."
      ],
      "metadata": {
        "id": "EePiLT0IVo9A"
      }
    },
    {
      "cell_type": "markdown",
      "source": [
        "## Results"
      ],
      "metadata": {
        "id": "JJct1dzfBpQi"
      }
    },
    {
      "cell_type": "markdown",
      "source": [
        "### Setup"
      ],
      "metadata": {
        "id": "gw8x3VJXKDL-"
      }
    },
    {
      "cell_type": "markdown",
      "source": [
        "###### Import libraries"
      ],
      "metadata": {
        "id": "ofcJNz0MHw9X"
      }
    },
    {
      "cell_type": "code",
      "execution_count": 215,
      "metadata": {
        "id": "GLWGvAZh8hLH"
      },
      "outputs": [],
      "source": [
        "import pandas as pd\n",
        "import numpy as np\n",
        "import pickle"
      ]
    },
    {
      "cell_type": "code",
      "source": [
        "import matplotlib.pyplot as plt\n",
        "% matplotlib inline\n",
        "\n",
        "from sklearn.metrics import confusion_matrix, ConfusionMatrixDisplay, \\\n",
        "                            accuracy_score, precision_score, recall_score,\\\n",
        "                            matthews_corrcoef, roc_curve, roc_auc_score"
      ],
      "metadata": {
        "id": "WrniBFl7Hq7y"
      },
      "execution_count": 216,
      "outputs": []
    },
    {
      "cell_type": "markdown",
      "source": [
        "###### Load testing data"
      ],
      "metadata": {
        "id": "9pzc1O__H3DM"
      }
    },
    {
      "cell_type": "code",
      "source": [
        "# Load test dataset\n",
        "test_data = pd.read_csv(\"test.csv\")\n",
        "test_data.head()"
      ],
      "metadata": {
        "colab": {
          "base_uri": "https://localhost:8080/",
          "height": 206
        },
        "id": "gNh9Ysd49L90",
        "outputId": "2428e03a-93f2-4a27-d868-a4fc8907b464"
      },
      "execution_count": 217,
      "outputs": [
        {
          "output_type": "execute_result",
          "data": {
            "text/plain": [
              "   is_sarcastic                                           headline\n",
              "0             0    how to make greek easter sweet bread \"tsoureki\"\n",
              "1             1                   theodore roosevelt was a gay man\n",
              "2             1  man at bar clinging to muted 'king of queens' ...\n",
              "3             0  the one moment you need to see from last night...\n",
              "4             0  'hedwig' takes home tony for best revival of a..."
            ],
            "text/html": [
              "\n",
              "  <div id=\"df-4b6cf7bf-6638-4274-ae3f-8ca03c231e77\">\n",
              "    <div class=\"colab-df-container\">\n",
              "      <div>\n",
              "<style scoped>\n",
              "    .dataframe tbody tr th:only-of-type {\n",
              "        vertical-align: middle;\n",
              "    }\n",
              "\n",
              "    .dataframe tbody tr th {\n",
              "        vertical-align: top;\n",
              "    }\n",
              "\n",
              "    .dataframe thead th {\n",
              "        text-align: right;\n",
              "    }\n",
              "</style>\n",
              "<table border=\"1\" class=\"dataframe\">\n",
              "  <thead>\n",
              "    <tr style=\"text-align: right;\">\n",
              "      <th></th>\n",
              "      <th>is_sarcastic</th>\n",
              "      <th>headline</th>\n",
              "    </tr>\n",
              "  </thead>\n",
              "  <tbody>\n",
              "    <tr>\n",
              "      <th>0</th>\n",
              "      <td>0</td>\n",
              "      <td>how to make greek easter sweet bread \"tsoureki\"</td>\n",
              "    </tr>\n",
              "    <tr>\n",
              "      <th>1</th>\n",
              "      <td>1</td>\n",
              "      <td>theodore roosevelt was a gay man</td>\n",
              "    </tr>\n",
              "    <tr>\n",
              "      <th>2</th>\n",
              "      <td>1</td>\n",
              "      <td>man at bar clinging to muted 'king of queens' ...</td>\n",
              "    </tr>\n",
              "    <tr>\n",
              "      <th>3</th>\n",
              "      <td>0</td>\n",
              "      <td>the one moment you need to see from last night...</td>\n",
              "    </tr>\n",
              "    <tr>\n",
              "      <th>4</th>\n",
              "      <td>0</td>\n",
              "      <td>'hedwig' takes home tony for best revival of a...</td>\n",
              "    </tr>\n",
              "  </tbody>\n",
              "</table>\n",
              "</div>\n",
              "      <button class=\"colab-df-convert\" onclick=\"convertToInteractive('df-4b6cf7bf-6638-4274-ae3f-8ca03c231e77')\"\n",
              "              title=\"Convert this dataframe to an interactive table.\"\n",
              "              style=\"display:none;\">\n",
              "        \n",
              "  <svg xmlns=\"http://www.w3.org/2000/svg\" height=\"24px\"viewBox=\"0 0 24 24\"\n",
              "       width=\"24px\">\n",
              "    <path d=\"M0 0h24v24H0V0z\" fill=\"none\"/>\n",
              "    <path d=\"M18.56 5.44l.94 2.06.94-2.06 2.06-.94-2.06-.94-.94-2.06-.94 2.06-2.06.94zm-11 1L8.5 8.5l.94-2.06 2.06-.94-2.06-.94L8.5 2.5l-.94 2.06-2.06.94zm10 10l.94 2.06.94-2.06 2.06-.94-2.06-.94-.94-2.06-.94 2.06-2.06.94z\"/><path d=\"M17.41 7.96l-1.37-1.37c-.4-.4-.92-.59-1.43-.59-.52 0-1.04.2-1.43.59L10.3 9.45l-7.72 7.72c-.78.78-.78 2.05 0 2.83L4 21.41c.39.39.9.59 1.41.59.51 0 1.02-.2 1.41-.59l7.78-7.78 2.81-2.81c.8-.78.8-2.07 0-2.86zM5.41 20L4 18.59l7.72-7.72 1.47 1.35L5.41 20z\"/>\n",
              "  </svg>\n",
              "      </button>\n",
              "      \n",
              "  <style>\n",
              "    .colab-df-container {\n",
              "      display:flex;\n",
              "      flex-wrap:wrap;\n",
              "      gap: 12px;\n",
              "    }\n",
              "\n",
              "    .colab-df-convert {\n",
              "      background-color: #E8F0FE;\n",
              "      border: none;\n",
              "      border-radius: 50%;\n",
              "      cursor: pointer;\n",
              "      display: none;\n",
              "      fill: #1967D2;\n",
              "      height: 32px;\n",
              "      padding: 0 0 0 0;\n",
              "      width: 32px;\n",
              "    }\n",
              "\n",
              "    .colab-df-convert:hover {\n",
              "      background-color: #E2EBFA;\n",
              "      box-shadow: 0px 1px 2px rgba(60, 64, 67, 0.3), 0px 1px 3px 1px rgba(60, 64, 67, 0.15);\n",
              "      fill: #174EA6;\n",
              "    }\n",
              "\n",
              "    [theme=dark] .colab-df-convert {\n",
              "      background-color: #3B4455;\n",
              "      fill: #D2E3FC;\n",
              "    }\n",
              "\n",
              "    [theme=dark] .colab-df-convert:hover {\n",
              "      background-color: #434B5C;\n",
              "      box-shadow: 0px 1px 3px 1px rgba(0, 0, 0, 0.15);\n",
              "      filter: drop-shadow(0px 1px 2px rgba(0, 0, 0, 0.3));\n",
              "      fill: #FFFFFF;\n",
              "    }\n",
              "  </style>\n",
              "\n",
              "      <script>\n",
              "        const buttonEl =\n",
              "          document.querySelector('#df-4b6cf7bf-6638-4274-ae3f-8ca03c231e77 button.colab-df-convert');\n",
              "        buttonEl.style.display =\n",
              "          google.colab.kernel.accessAllowed ? 'block' : 'none';\n",
              "\n",
              "        async function convertToInteractive(key) {\n",
              "          const element = document.querySelector('#df-4b6cf7bf-6638-4274-ae3f-8ca03c231e77');\n",
              "          const dataTable =\n",
              "            await google.colab.kernel.invokeFunction('convertToInteractive',\n",
              "                                                     [key], {});\n",
              "          if (!dataTable) return;\n",
              "\n",
              "          const docLinkHtml = 'Like what you see? Visit the ' +\n",
              "            '<a target=\"_blank\" href=https://colab.research.google.com/notebooks/data_table.ipynb>data table notebook</a>'\n",
              "            + ' to learn more about interactive tables.';\n",
              "          element.innerHTML = '';\n",
              "          dataTable['output_type'] = 'display_data';\n",
              "          await google.colab.output.renderOutput(dataTable, element);\n",
              "          const docLink = document.createElement('div');\n",
              "          docLink.innerHTML = docLinkHtml;\n",
              "          element.appendChild(docLink);\n",
              "        }\n",
              "      </script>\n",
              "    </div>\n",
              "  </div>\n",
              "  "
            ]
          },
          "metadata": {},
          "execution_count": 217
        }
      ]
    },
    {
      "cell_type": "code",
      "source": [
        "# True labels\n",
        "target = test_data['is_sarcastic']\n",
        "target.head()"
      ],
      "metadata": {
        "colab": {
          "base_uri": "https://localhost:8080/"
        },
        "id": "AV3PrkF19uvc",
        "outputId": "c4d4abc6-1ebf-4616-8e87-33cbc75d4275"
      },
      "execution_count": 218,
      "outputs": [
        {
          "output_type": "execute_result",
          "data": {
            "text/plain": [
              "0    0\n",
              "1    1\n",
              "2    1\n",
              "3    0\n",
              "4    0\n",
              "Name: is_sarcastic, dtype: int64"
            ]
          },
          "metadata": {},
          "execution_count": 218
        }
      ]
    },
    {
      "cell_type": "markdown",
      "source": [
        "###### Load prediction probabilities from each model"
      ],
      "metadata": {
        "id": "4_zGLJqVH6jd"
      }
    },
    {
      "cell_type": "code",
      "source": [
        "# Load DistilBERT Probabilities\n",
        "distilbert_probabilities = pickle.load(open(\"prediction_probabilities_distilbert_3.pkl\", 'rb'))\n",
        "distilbert_pred_prob_1 = distilbert_probabilities[:,1].numpy()\n",
        "\n",
        "# Get binary classification from prediction probabilities\n",
        "distilbert_predictions = np.argmax(distilbert_probabilities, axis=1)"
      ],
      "metadata": {
        "id": "W_bKG9IL8vno"
      },
      "execution_count": 320,
      "outputs": []
    },
    {
      "cell_type": "code",
      "source": [
        "# Load word2vec probabilities\n",
        "word2vec_pred_prob_1 = pickle.load(open(\"word2vec_probs_for_1.pkl\", 'rb'))\n",
        "word2vec_pred_prob_1 = word2vec_pred_prob_1.flatten()"
      ],
      "metadata": {
        "id": "a8jvw18LUDnb"
      },
      "execution_count": 220,
      "outputs": []
    },
    {
      "cell_type": "code",
      "source": [
        "# Load GloVe probabilities\n",
        "glove_pred_prob_1 = pickle.load(open(\"glove_probs_for_1.pkl\", 'rb'))\n",
        "glove_pred_prob_1 = glove_pred_prob_1.flatten()"
      ],
      "metadata": {
        "id": "zDHdnMm7a6ip"
      },
      "execution_count": 221,
      "outputs": []
    },
    {
      "cell_type": "code",
      "source": [
        "# Load ELMo probabilities\n",
        "elmo_pred_prob_1 = pickle.load(open(\"elmo_probs_for_1.pkl\", 'rb'))\n",
        "elmo_pred_prob_1 = elmo_pred_prob_1.flatten()"
      ],
      "metadata": {
        "id": "aAJx8D9SbJvp"
      },
      "execution_count": 222,
      "outputs": []
    },
    {
      "cell_type": "code",
      "source": [
        "# Load FastText probabilities\n",
        "fasttext_pred_prob_1 = np.array(pickle.load(open(\"fasttext_probs_for_1.pkl\", 'rb')))"
      ],
      "metadata": {
        "id": "MKBKkKVqbweq"
      },
      "execution_count": 223,
      "outputs": []
    },
    {
      "cell_type": "code",
      "source": [
        "models = [\n",
        "  {\n",
        "    \"name\": \"DistilBERT\",\n",
        "    \"pred_prob_1\": distilbert_pred_prob_1\n",
        "  },\n",
        "  {\n",
        "    \"name\": \"word2vec\",\n",
        "    \"pred_prob_1\": word2vec_pred_prob_1\n",
        "  },\n",
        "  {\n",
        "    \"name\": \"GloVe\",\n",
        "    \"pred_prob_1\": glove_pred_prob_1\n",
        "  },\n",
        "  {\n",
        "    \"name\": \"ELMo\",\n",
        "    \"pred_prob_1\": elmo_pred_prob_1\n",
        "  },\n",
        "  {\n",
        "    \"name\": \"fastText\",\n",
        "    \"pred_prob_1\": fasttext_pred_prob_1\n",
        "  }\n",
        "]"
      ],
      "metadata": {
        "id": "jmnDKVslfU-b"
      },
      "execution_count": 224,
      "outputs": []
    },
    {
      "cell_type": "markdown",
      "source": [
        "### Performance statistics per model"
      ],
      "metadata": {
        "id": "yVLz7hApIAul"
      }
    },
    {
      "cell_type": "code",
      "source": [
        "performance_stats = []\n",
        "for model in models:\n",
        "  # Get the binary classification prediction from the prediction probability for 1 (headline is sarcastic)\n",
        "  predictions = (np.array(model[\"pred_prob_1\"]) > 0.5).astype(int)\n",
        "\n",
        "  # get performance metrics\n",
        "  performance_stats.append(\n",
        "        {\n",
        "          \"Model\": model[\"name\"],\n",
        "          \"Accuracy\": accuracy_score(target, predictions),\n",
        "          \"Precision\": precision_score(target, predictions),\n",
        "          \"Recall\": recall_score(target, predictions),\n",
        "          \"MCC\": matthews_corrcoef(target, predictions),\n",
        "          \"Confusion Matrix\": confusion_matrix(target, predictions),\n",
        "          \"ROC Curve\": roc_curve(target, model[\"pred_prob_1\"]),\n",
        "          \"ROC AUC Score\": roc_auc_score(target, model[\"pred_prob_1\"])\n",
        "        })"
      ],
      "metadata": {
        "id": "f3mA2r6tb_HR"
      },
      "execution_count": 225,
      "outputs": []
    },
    {
      "cell_type": "code",
      "source": [
        "performance_df = pd.DataFrame(performance_stats)\n",
        "pd.set_option('precision', 2)\n",
        "performance_df.iloc[:,:5]"
      ],
      "metadata": {
        "colab": {
          "base_uri": "https://localhost:8080/",
          "height": 206
        },
        "id": "sf3HJeqKeCLc",
        "outputId": "3beb2ac2-26d2-4798-a783-1bed0d8821ce"
      },
      "execution_count": 226,
      "outputs": [
        {
          "output_type": "execute_result",
          "data": {
            "text/plain": [
              "        Model  Accuracy  Precision  Recall   MCC\n",
              "0  DistilBERT      0.92       0.93    0.90  0.84\n",
              "1    word2vec      0.88       0.86    0.88  0.75\n",
              "2       GloVe      0.82       0.83    0.79  0.64\n",
              "3        ELMo      0.79       0.79    0.76  0.58\n",
              "4    fastText      0.81       0.82    0.78  0.62"
            ],
            "text/html": [
              "\n",
              "  <div id=\"df-91e866db-f6f5-4275-901b-c27c16066be0\">\n",
              "    <div class=\"colab-df-container\">\n",
              "      <div>\n",
              "<style scoped>\n",
              "    .dataframe tbody tr th:only-of-type {\n",
              "        vertical-align: middle;\n",
              "    }\n",
              "\n",
              "    .dataframe tbody tr th {\n",
              "        vertical-align: top;\n",
              "    }\n",
              "\n",
              "    .dataframe thead th {\n",
              "        text-align: right;\n",
              "    }\n",
              "</style>\n",
              "<table border=\"1\" class=\"dataframe\">\n",
              "  <thead>\n",
              "    <tr style=\"text-align: right;\">\n",
              "      <th></th>\n",
              "      <th>Model</th>\n",
              "      <th>Accuracy</th>\n",
              "      <th>Precision</th>\n",
              "      <th>Recall</th>\n",
              "      <th>MCC</th>\n",
              "    </tr>\n",
              "  </thead>\n",
              "  <tbody>\n",
              "    <tr>\n",
              "      <th>0</th>\n",
              "      <td>DistilBERT</td>\n",
              "      <td>0.92</td>\n",
              "      <td>0.93</td>\n",
              "      <td>0.90</td>\n",
              "      <td>0.84</td>\n",
              "    </tr>\n",
              "    <tr>\n",
              "      <th>1</th>\n",
              "      <td>word2vec</td>\n",
              "      <td>0.88</td>\n",
              "      <td>0.86</td>\n",
              "      <td>0.88</td>\n",
              "      <td>0.75</td>\n",
              "    </tr>\n",
              "    <tr>\n",
              "      <th>2</th>\n",
              "      <td>GloVe</td>\n",
              "      <td>0.82</td>\n",
              "      <td>0.83</td>\n",
              "      <td>0.79</td>\n",
              "      <td>0.64</td>\n",
              "    </tr>\n",
              "    <tr>\n",
              "      <th>3</th>\n",
              "      <td>ELMo</td>\n",
              "      <td>0.79</td>\n",
              "      <td>0.79</td>\n",
              "      <td>0.76</td>\n",
              "      <td>0.58</td>\n",
              "    </tr>\n",
              "    <tr>\n",
              "      <th>4</th>\n",
              "      <td>fastText</td>\n",
              "      <td>0.81</td>\n",
              "      <td>0.82</td>\n",
              "      <td>0.78</td>\n",
              "      <td>0.62</td>\n",
              "    </tr>\n",
              "  </tbody>\n",
              "</table>\n",
              "</div>\n",
              "      <button class=\"colab-df-convert\" onclick=\"convertToInteractive('df-91e866db-f6f5-4275-901b-c27c16066be0')\"\n",
              "              title=\"Convert this dataframe to an interactive table.\"\n",
              "              style=\"display:none;\">\n",
              "        \n",
              "  <svg xmlns=\"http://www.w3.org/2000/svg\" height=\"24px\"viewBox=\"0 0 24 24\"\n",
              "       width=\"24px\">\n",
              "    <path d=\"M0 0h24v24H0V0z\" fill=\"none\"/>\n",
              "    <path d=\"M18.56 5.44l.94 2.06.94-2.06 2.06-.94-2.06-.94-.94-2.06-.94 2.06-2.06.94zm-11 1L8.5 8.5l.94-2.06 2.06-.94-2.06-.94L8.5 2.5l-.94 2.06-2.06.94zm10 10l.94 2.06.94-2.06 2.06-.94-2.06-.94-.94-2.06-.94 2.06-2.06.94z\"/><path d=\"M17.41 7.96l-1.37-1.37c-.4-.4-.92-.59-1.43-.59-.52 0-1.04.2-1.43.59L10.3 9.45l-7.72 7.72c-.78.78-.78 2.05 0 2.83L4 21.41c.39.39.9.59 1.41.59.51 0 1.02-.2 1.41-.59l7.78-7.78 2.81-2.81c.8-.78.8-2.07 0-2.86zM5.41 20L4 18.59l7.72-7.72 1.47 1.35L5.41 20z\"/>\n",
              "  </svg>\n",
              "      </button>\n",
              "      \n",
              "  <style>\n",
              "    .colab-df-container {\n",
              "      display:flex;\n",
              "      flex-wrap:wrap;\n",
              "      gap: 12px;\n",
              "    }\n",
              "\n",
              "    .colab-df-convert {\n",
              "      background-color: #E8F0FE;\n",
              "      border: none;\n",
              "      border-radius: 50%;\n",
              "      cursor: pointer;\n",
              "      display: none;\n",
              "      fill: #1967D2;\n",
              "      height: 32px;\n",
              "      padding: 0 0 0 0;\n",
              "      width: 32px;\n",
              "    }\n",
              "\n",
              "    .colab-df-convert:hover {\n",
              "      background-color: #E2EBFA;\n",
              "      box-shadow: 0px 1px 2px rgba(60, 64, 67, 0.3), 0px 1px 3px 1px rgba(60, 64, 67, 0.15);\n",
              "      fill: #174EA6;\n",
              "    }\n",
              "\n",
              "    [theme=dark] .colab-df-convert {\n",
              "      background-color: #3B4455;\n",
              "      fill: #D2E3FC;\n",
              "    }\n",
              "\n",
              "    [theme=dark] .colab-df-convert:hover {\n",
              "      background-color: #434B5C;\n",
              "      box-shadow: 0px 1px 3px 1px rgba(0, 0, 0, 0.15);\n",
              "      filter: drop-shadow(0px 1px 2px rgba(0, 0, 0, 0.3));\n",
              "      fill: #FFFFFF;\n",
              "    }\n",
              "  </style>\n",
              "\n",
              "      <script>\n",
              "        const buttonEl =\n",
              "          document.querySelector('#df-91e866db-f6f5-4275-901b-c27c16066be0 button.colab-df-convert');\n",
              "        buttonEl.style.display =\n",
              "          google.colab.kernel.accessAllowed ? 'block' : 'none';\n",
              "\n",
              "        async function convertToInteractive(key) {\n",
              "          const element = document.querySelector('#df-91e866db-f6f5-4275-901b-c27c16066be0');\n",
              "          const dataTable =\n",
              "            await google.colab.kernel.invokeFunction('convertToInteractive',\n",
              "                                                     [key], {});\n",
              "          if (!dataTable) return;\n",
              "\n",
              "          const docLinkHtml = 'Like what you see? Visit the ' +\n",
              "            '<a target=\"_blank\" href=https://colab.research.google.com/notebooks/data_table.ipynb>data table notebook</a>'\n",
              "            + ' to learn more about interactive tables.';\n",
              "          element.innerHTML = '';\n",
              "          dataTable['output_type'] = 'display_data';\n",
              "          await google.colab.output.renderOutput(dataTable, element);\n",
              "          const docLink = document.createElement('div');\n",
              "          docLink.innerHTML = docLinkHtml;\n",
              "          element.appendChild(docLink);\n",
              "        }\n",
              "      </script>\n",
              "    </div>\n",
              "  </div>\n",
              "  "
            ]
          },
          "metadata": {},
          "execution_count": 226
        }
      ]
    },
    {
      "cell_type": "markdown",
      "source": [
        "###### Accuracy, precision, and recall"
      ],
      "metadata": {
        "id": "SxYC7SEXKV4l"
      }
    },
    {
      "cell_type": "code",
      "source": [
        "ax = performance_df.plot.bar(x='Model', y=['Accuracy', 'Precision', 'Recall'], rot=0)\n",
        "ax.set_ybound(lower=0.75)\n",
        "ax.set_title(\"Model Performance\")"
      ],
      "metadata": {
        "colab": {
          "base_uri": "https://localhost:8080/",
          "height": 313
        },
        "id": "dSTN0KNLozQW",
        "outputId": "f468baa4-3340-4955-d335-e9b4f5b1cfea"
      },
      "execution_count": 227,
      "outputs": [
        {
          "output_type": "execute_result",
          "data": {
            "text/plain": [
              "Text(0.5, 1.0, 'Model Performance')"
            ]
          },
          "metadata": {},
          "execution_count": 227
        },
        {
          "output_type": "display_data",
          "data": {
            "text/plain": [
              "<Figure size 432x288 with 1 Axes>"
            ],
            "image/png": "[encoded data removed]"
          },
          "metadata": {
            "needs_background": "light"
          }
        }
      ]
    },
    {
      "cell_type": "markdown",
      "source": [
        "###### Matthews' Correlation Coefficient (MCC)"
      ],
      "metadata": {
        "id": "IOxKXVS6KbRM"
      }
    },
    {
      "cell_type": "code",
      "source": [
        "ax = performance_df.plot.bar(x='Model', y='MCC', rot=0)\n",
        "ax.set_ybound(lower=0.5)\n",
        "ax.set_title(\"Matthews' Correlation Coefficients\")"
      ],
      "metadata": {
        "colab": {
          "base_uri": "https://localhost:8080/",
          "height": 313
        },
        "id": "eGFC_5LYqdog",
        "outputId": "8c1d8423-8755-4e67-86e5-083d8175f380"
      },
      "execution_count": 228,
      "outputs": [
        {
          "output_type": "execute_result",
          "data": {
            "text/plain": [
              "Text(0.5, 1.0, \"Matthews' Correlation Coefficients\")"
            ]
          },
          "metadata": {},
          "execution_count": 228
        },
        {
          "output_type": "display_data",
          "data": {
            "text/plain": [
              "<Figure size 432x288 with 1 Axes>"
            ],
            "image/png": "[encoded data removed]"
          },
          "metadata": {
            "needs_background": "light"
          }
        }
      ]
    },
    {
      "cell_type": "markdown",
      "source": [
        "###### Confusion Matrices"
      ],
      "metadata": {
        "id": "Gae6NdAKJ77d"
      }
    },
    {
      "cell_type": "code",
      "source": [
        "# Plot confusion matrices\n",
        "fig, axes = plt.subplots(nrows=1, ncols=5, figsize=(20, 4))\n",
        "for i, model in enumerate(performance_stats):\n",
        "  disp = ConfusionMatrixDisplay(confusion_matrix=model[\"Confusion Matrix\"])\n",
        "  disp.plot(ax=axes[i])\n",
        "  disp.ax_.set_title(model[\"Model\"])\n",
        "  if i != len(performance_stats) - 1:\n",
        "    disp.im_.colorbar.remove()\n",
        "  if i != int(len(performance_stats) / 2):\n",
        "    disp.ax_.set_xlabel('')\n",
        "  if i != 0:\n",
        "    disp.ax_.set_ylabel('')"
      ],
      "metadata": {
        "colab": {
          "base_uri": "https://localhost:8080/",
          "height": 217
        },
        "id": "dxKE85ANrXmt",
        "outputId": "d45959c1-4ec0-4302-8150-0e4d7ae64687"
      },
      "execution_count": 229,
      "outputs": [
        {
          "output_type": "display_data",
          "data": {
            "text/plain": [
              "<Figure size 1440x288 with 6 Axes>"
            ],
            "image/png": "[encoded data removed]"
          },
          "metadata": {
            "needs_background": "light"
          }
        }
      ]
    },
    {
      "cell_type": "markdown",
      "source": [
        "###### ROC Curves"
      ],
      "metadata": {
        "id": "1_wqqDmuJ_lu"
      }
    },
    {
      "cell_type": "code",
      "source": [
        "plt.figure(0).clf()\n",
        "\n",
        "# Plot ROC curves\n",
        "for i, model in enumerate(performance_stats):\n",
        "  fpr, tpr, _ = model[\"ROC Curve\"]\n",
        "  auc = model[\"ROC AUC Score\"]\n",
        "  plt.plot(fpr,tpr,label=f\"{model['Model']}, AUC={round(auc, 2)}\")\n",
        "\n",
        "plt.legend()\n",
        "plt.ylabel(\"True Positive Rate\")\n",
        "plt.xlabel(\"False Positive Rate\")\n",
        "plt.title(\"ROC Curves\")"
      ],
      "metadata": {
        "colab": {
          "base_uri": "https://localhost:8080/",
          "height": 313
        },
        "id": "YYex5Xnp-xRz",
        "outputId": "068bdfd0-fa09-4ff9-dc06-c906f885d887"
      },
      "execution_count": 230,
      "outputs": [
        {
          "output_type": "execute_result",
          "data": {
            "text/plain": [
              "Text(0.5, 1.0, 'ROC Curves')"
            ]
          },
          "metadata": {},
          "execution_count": 230
        },
        {
          "output_type": "display_data",
          "data": {
            "text/plain": [
              "<Figure size 432x288 with 1 Axes>"
            ],
            "image/png": "[encoded data removed]"
          },
          "metadata": {
            "needs_background": "light"
          }
        }
      ]
    },
    {
      "cell_type": "markdown",
      "source": [
        "## Ensemble Modelling"
      ],
      "metadata": {
        "id": "1Q7J9vxgKO7u"
      }
    },
    {
      "cell_type": "markdown",
      "source": [
        "Our goal is to improve on our top performing model (DistilBERT) by creating an ensemble with the other 4 models."
      ],
      "metadata": {
        "id": "zjnUtAvQIlsI"
      }
    },
    {
      "cell_type": "markdown",
      "source": [
        "###### Initial ensemble (excluding DistilBERT)\n",
        "\n",
        "We first combine the 4 underperforming models (word2vec, GloVe, fastText, ELMo) into our initial ensemble."
      ],
      "metadata": {
        "id": "DcAN4HLERCrI"
      }
    },
    {
      "cell_type": "markdown",
      "source": [
        "We will use the Matthews Correlation Coefficient to weight each model in the ensemble."
      ],
      "metadata": {
        "id": "kaBj-XQcKhg-"
      }
    },
    {
      "cell_type": "code",
      "source": [
        "# Choose an offset (less than minimum MCC = 0.58)\n",
        "# higher offset will give larger (more extreme) weighting to better models\n",
        "offset = 0.5\n",
        "\n",
        "#### Weight calculations exclude DistilBERT\n",
        "\n",
        "# get model weight based on model's MCC value\n",
        "def get_model_weight(mcc_val):\n",
        "  return (mcc_val - offset)/sum(performance_df.loc[1:,'MCC'] - offset)\n",
        "\n",
        "performance_df['Weight'] = performance_df.apply(lambda row: get_model_weight(row['MCC']), axis=1)\n",
        "\n",
        "# Check that sum of weights is equal to 1\n",
        "print(f\"Sum of weights = {sum(performance_df.loc[1:,'Weight'])}\")\n",
        "\n",
        "# Display weight for each model\n",
        "performance_df.loc[1:,['Model', 'MCC', 'Weight']]"
      ],
      "metadata": {
        "colab": {
          "base_uri": "https://localhost:8080/",
          "height": 193
        },
        "id": "K10HoUn0Jzx6",
        "outputId": "baa21969-fc97-465d-f1c4-5eb08e4d19dd"
      },
      "execution_count": 393,
      "outputs": [
        {
          "output_type": "stream",
          "name": "stdout",
          "text": [
            "Sum of weights = 1.0\n"
          ]
        },
        {
          "output_type": "execute_result",
          "data": {
            "text/plain": [
              "      Model   MCC  Weight\n",
              "1  word2vec  0.75    0.42\n",
              "2     GloVe  0.64    0.24\n",
              "3      ELMo  0.58    0.14\n",
              "4  fastText  0.62    0.20"
            ],
            "text/html": [
              "\n",
              "  <div id=\"df-c3dfd5d9-6749-413c-b974-4c5453f63875\">\n",
              "    <div class=\"colab-df-container\">\n",
              "      <div>\n",
              "<style scoped>\n",
              "    .dataframe tbody tr th:only-of-type {\n",
              "        vertical-align: middle;\n",
              "    }\n",
              "\n",
              "    .dataframe tbody tr th {\n",
              "        vertical-align: top;\n",
              "    }\n",
              "\n",
              "    .dataframe thead th {\n",
              "        text-align: right;\n",
              "    }\n",
              "</style>\n",
              "<table border=\"1\" class=\"dataframe\">\n",
              "  <thead>\n",
              "    <tr style=\"text-align: right;\">\n",
              "      <th></th>\n",
              "      <th>Model</th>\n",
              "      <th>MCC</th>\n",
              "      <th>Weight</th>\n",
              "    </tr>\n",
              "  </thead>\n",
              "  <tbody>\n",
              "    <tr>\n",
              "      <th>1</th>\n",
              "      <td>word2vec</td>\n",
              "      <td>0.75</td>\n",
              "      <td>0.42</td>\n",
              "    </tr>\n",
              "    <tr>\n",
              "      <th>2</th>\n",
              "      <td>GloVe</td>\n",
              "      <td>0.64</td>\n",
              "      <td>0.24</td>\n",
              "    </tr>\n",
              "    <tr>\n",
              "      <th>3</th>\n",
              "      <td>ELMo</td>\n",
              "      <td>0.58</td>\n",
              "      <td>0.14</td>\n",
              "    </tr>\n",
              "    <tr>\n",
              "      <th>4</th>\n",
              "      <td>fastText</td>\n",
              "      <td>0.62</td>\n",
              "      <td>0.20</td>\n",
              "    </tr>\n",
              "  </tbody>\n",
              "</table>\n",
              "</div>\n",
              "      <button class=\"colab-df-convert\" onclick=\"convertToInteractive('df-c3dfd5d9-6749-413c-b974-4c5453f63875')\"\n",
              "              title=\"Convert this dataframe to an interactive table.\"\n",
              "              style=\"display:none;\">\n",
              "        \n",
              "  <svg xmlns=\"http://www.w3.org/2000/svg\" height=\"24px\"viewBox=\"0 0 24 24\"\n",
              "       width=\"24px\">\n",
              "    <path d=\"M0 0h24v24H0V0z\" fill=\"none\"/>\n",
              "    <path d=\"M18.56 5.44l.94 2.06.94-2.06 2.06-.94-2.06-.94-.94-2.06-.94 2.06-2.06.94zm-11 1L8.5 8.5l.94-2.06 2.06-.94-2.06-.94L8.5 2.5l-.94 2.06-2.06.94zm10 10l.94 2.06.94-2.06 2.06-.94-2.06-.94-.94-2.06-.94 2.06-2.06.94z\"/><path d=\"M17.41 7.96l-1.37-1.37c-.4-.4-.92-.59-1.43-.59-.52 0-1.04.2-1.43.59L10.3 9.45l-7.72 7.72c-.78.78-.78 2.05 0 2.83L4 21.41c.39.39.9.59 1.41.59.51 0 1.02-.2 1.41-.59l7.78-7.78 2.81-2.81c.8-.78.8-2.07 0-2.86zM5.41 20L4 18.59l7.72-7.72 1.47 1.35L5.41 20z\"/>\n",
              "  </svg>\n",
              "      </button>\n",
              "      \n",
              "  <style>\n",
              "    .colab-df-container {\n",
              "      display:flex;\n",
              "      flex-wrap:wrap;\n",
              "      gap: 12px;\n",
              "    }\n",
              "\n",
              "    .colab-df-convert {\n",
              "      background-color: #E8F0FE;\n",
              "      border: none;\n",
              "      border-radius: 50%;\n",
              "      cursor: pointer;\n",
              "      display: none;\n",
              "      fill: #1967D2;\n",
              "      height: 32px;\n",
              "      padding: 0 0 0 0;\n",
              "      width: 32px;\n",
              "    }\n",
              "\n",
              "    .colab-df-convert:hover {\n",
              "      background-color: #E2EBFA;\n",
              "      box-shadow: 0px 1px 2px rgba(60, 64, 67, 0.3), 0px 1px 3px 1px rgba(60, 64, 67, 0.15);\n",
              "      fill: #174EA6;\n",
              "    }\n",
              "\n",
              "    [theme=dark] .colab-df-convert {\n",
              "      background-color: #3B4455;\n",
              "      fill: #D2E3FC;\n",
              "    }\n",
              "\n",
              "    [theme=dark] .colab-df-convert:hover {\n",
              "      background-color: #434B5C;\n",
              "      box-shadow: 0px 1px 3px 1px rgba(0, 0, 0, 0.15);\n",
              "      filter: drop-shadow(0px 1px 2px rgba(0, 0, 0, 0.3));\n",
              "      fill: #FFFFFF;\n",
              "    }\n",
              "  </style>\n",
              "\n",
              "      <script>\n",
              "        const buttonEl =\n",
              "          document.querySelector('#df-c3dfd5d9-6749-413c-b974-4c5453f63875 button.colab-df-convert');\n",
              "        buttonEl.style.display =\n",
              "          google.colab.kernel.accessAllowed ? 'block' : 'none';\n",
              "\n",
              "        async function convertToInteractive(key) {\n",
              "          const element = document.querySelector('#df-c3dfd5d9-6749-413c-b974-4c5453f63875');\n",
              "          const dataTable =\n",
              "            await google.colab.kernel.invokeFunction('convertToInteractive',\n",
              "                                                     [key], {});\n",
              "          if (!dataTable) return;\n",
              "\n",
              "          const docLinkHtml = 'Like what you see? Visit the ' +\n",
              "            '<a target=\"_blank\" href=https://colab.research.google.com/notebooks/data_table.ipynb>data table notebook</a>'\n",
              "            + ' to learn more about interactive tables.';\n",
              "          element.innerHTML = '';\n",
              "          dataTable['output_type'] = 'display_data';\n",
              "          await google.colab.output.renderOutput(dataTable, element);\n",
              "          const docLink = document.createElement('div');\n",
              "          docLink.innerHTML = docLinkHtml;\n",
              "          element.appendChild(docLink);\n",
              "        }\n",
              "      </script>\n",
              "    </div>\n",
              "  </div>\n",
              "  "
            ]
          },
          "metadata": {},
          "execution_count": 393
        }
      ]
    },
    {
      "cell_type": "markdown",
      "source": [
        "We then compute combined prediction probabilties based on these weights."
      ],
      "metadata": {
        "id": "WUa2STl92x8Z"
      }
    },
    {
      "cell_type": "code",
      "source": [
        "# Array for initial ensemble's prediction probability for 1 (headline is sarcastic)\n",
        "# Initialized as zeros\n",
        "ensemble_pred_probs = np.zeros_like(distilbert_pred_prob_1, dtype='float64')\n",
        "\n",
        "#### Does not include DistilBERT\n",
        "for model in models[1:]:\n",
        "  # Get weight from dataframe\n",
        "  weight = performance_df.loc[performance_df['Model'] == model['name'], 'Weight'].iloc[0]\n",
        "  # Add weighted probability\n",
        "  ensemble_pred_probs = np.add(ensemble_pred_probs, weight * model['pred_prob_1'])\n",
        "\n",
        "# Get binary classification\n",
        "initial_ensemble_predictions = (ensemble_pred_probs > 0.5).astype(int)"
      ],
      "metadata": {
        "id": "J6t4MJ7SzVSR"
      },
      "execution_count": 396,
      "outputs": []
    },
    {
      "cell_type": "code",
      "source": [
        "print(f\"Accuracy: {round(accuracy_score(target, initial_ensemble_predictions), 3)}\")\n",
        "print(f\"Precision: {round(precision_score(target, initial_ensemble_predictions), 3)}\")\n",
        "print(f\"Recall: {round(recall_score(target, initial_ensemble_predictions), 3)}\")\n",
        "\n",
        "print(f\"MCC: {round(matthews_corrcoef(target, initial_ensemble_predictions), 3)}\")"
      ],
      "metadata": {
        "colab": {
          "base_uri": "https://localhost:8080/"
        },
        "id": "9CKYyZPgSm-f",
        "outputId": "060f6f26-5bc3-4b75-81ff-4da9e87d2715"
      },
      "execution_count": 398,
      "outputs": [
        {
          "output_type": "stream",
          "name": "stdout",
          "text": [
            "Accuracy: 0.885\n",
            "Precision: 0.882\n",
            "Recall: 0.876\n",
            "MCC: 0.769\n"
          ]
        }
      ]
    },
    {
      "cell_type": "markdown",
      "source": [
        "This is a slight improvement on the highest performing model of the 4 included in the ensemble model (word2vec, MCC = 0.75). However, it still underperforms the DistilBERT model. \n",
        "\n",
        "Our next step is to weight this intial ensemble with the DistilBERT model."
      ],
      "metadata": {
        "id": "6EDsDVwtTW-9"
      }
    },
    {
      "cell_type": "markdown",
      "source": [
        "###### Final ensemble\n",
        "\n",
        "To illustrate, a weighting of 0.5 was given to both the initial ensemble model and DistilBERT model."
      ],
      "metadata": {
        "id": "vtwYmwAWUtL0"
      }
    },
    {
      "cell_type": "code",
      "source": [
        "ensemble_pred_probs_with_bert = np.add(ensemble_pred_probs * 0.5, distilbert_pred_prob_1 * 0.5)\n",
        "\n",
        "# Get the binary classification prediction from prediction probability\n",
        "ensemble_with_bert_predictions = (ensemble_pred_probs_with_bert > 0.5).astype(int)"
      ],
      "metadata": {
        "id": "34h7pnNj8QnX"
      },
      "execution_count": 399,
      "outputs": []
    },
    {
      "cell_type": "code",
      "source": [
        "print(f\"Accuracy: {round(accuracy_score(target, ensemble_with_bert_predictions), 3)}\")\n",
        "print(f\"Precision: {round(precision_score(target, ensemble_with_bert_predictions), 3)}\")\n",
        "print(f\"Recall: {round(recall_score(target, ensemble_with_bert_predictions), 3)}\")\n",
        "\n",
        "print(f\"MCC: {round(matthews_corrcoef(target, ensemble_with_bert_predictions), 3)}\")"
      ],
      "metadata": {
        "colab": {
          "base_uri": "https://localhost:8080/"
        },
        "id": "RSfuyqMU8cpS",
        "outputId": "bc1eed70-a668-41e1-afe9-47fb7b469ad8"
      },
      "execution_count": 400,
      "outputs": [
        {
          "output_type": "stream",
          "name": "stdout",
          "text": [
            "Accuracy: 0.926\n",
            "Precision: 0.937\n",
            "Recall: 0.907\n",
            "MCC: 0.853\n"
          ]
        }
      ]
    },
    {
      "cell_type": "markdown",
      "source": [
        "Adding information from our initial ensemble (4 models) to the DistilBERT model improves its performance on the test dataset slightly.\n",
        "\n",
        "\n",
        "We now want to find the optimal weighting for the DistilBERT model to maximize Matthews' Correlation Coefficient."
      ],
      "metadata": {
        "id": "WGqYr8GWMy1w"
      }
    },
    {
      "cell_type": "code",
      "source": [
        "bert_weight = np.arange(0, 1, 0.01)\n",
        "\n",
        "mccs = np.zeros_like(bert_weight)\n",
        "for i, w in enumerate(bert_weight):\n",
        "  e_pred_probs_with_bert = np.add(ensemble_pred_probs *(1 - w), distilbert_pred_prob_1 * w)\n",
        "  e_predictions = (e_pred_probs_with_bert > 0.5).astype(int)\n",
        "  mccs[i] = matthews_corrcoef(target, e_predictions)"
      ],
      "metadata": {
        "id": "nSXQRiEXKxMZ"
      },
      "execution_count": 382,
      "outputs": []
    },
    {
      "cell_type": "code",
      "source": [
        "plt.plot(bert_weight, mccs)\n",
        "plt.xlabel(\"DistilBERT Model Weighting\")\n",
        "plt.ylabel(\"Matthews' Correlation Coefficient\")"
      ],
      "metadata": {
        "colab": {
          "base_uri": "https://localhost:8080/",
          "height": 297
        },
        "id": "wITlHL8mMfCl",
        "outputId": "fc2b07f9-f861-41ab-da43-026534b6309e"
      },
      "execution_count": 383,
      "outputs": [
        {
          "output_type": "execute_result",
          "data": {
            "text/plain": [
              "Text(0, 0.5, \"Matthews' Correlation Coefficient\")"
            ]
          },
          "metadata": {},
          "execution_count": 383
        },
        {
          "output_type": "display_data",
          "data": {
            "text/plain": [
              "<Figure size 432x288 with 1 Axes>"
            ],
            "image/png": "[encoded data removed]"
          },
          "metadata": {
            "needs_background": "light"
          }
        }
      ]
    },
    {
      "cell_type": "markdown",
      "source": [
        "The highest MCC produced is around 0.5. Zooming in on the [0.4, 0.6] region:"
      ],
      "metadata": {
        "id": "XNiunmqUOdA4"
      }
    },
    {
      "cell_type": "code",
      "source": [
        "bert_weight = np.arange(0.4, 0.6, 0.001)\n",
        "\n",
        "mccs = np.zeros_like(bert_weight)\n",
        "for i, w in enumerate(bert_weight):\n",
        "  e_pred_probs_with_bert = np.add(ensemble_pred_probs *(1 - w), distilbert_pred_prob_1 * w)\n",
        "  e_predictions = (e_pred_probs_with_bert > 0.5).astype(int)\n",
        "  mccs[i] = matthews_corrcoef(target, e_predictions)"
      ],
      "metadata": {
        "id": "G8h6BvGROit-"
      },
      "execution_count": 389,
      "outputs": []
    },
    {
      "cell_type": "code",
      "source": [
        "plt.plot(bert_weight, mccs)\n",
        "plt.xlabel(\"DistilBERT Model Weighting\")\n",
        "plt.ylabel(\"Matthews' Correlation Coefficient\")"
      ],
      "metadata": {
        "colab": {
          "base_uri": "https://localhost:8080/",
          "height": 297
        },
        "id": "w5wmzZ1MPZss",
        "outputId": "3d9a77dc-0daf-4b57-c079-cec015329ec4"
      },
      "execution_count": 390,
      "outputs": [
        {
          "output_type": "execute_result",
          "data": {
            "text/plain": [
              "Text(0, 0.5, \"Matthews' Correlation Coefficient\")"
            ]
          },
          "metadata": {},
          "execution_count": 390
        },
        {
          "output_type": "display_data",
          "data": {
            "text/plain": [
              "<Figure size 432x288 with 1 Axes>"
            ],
            "image/png": "[encoded data removed]"
          },
          "metadata": {
            "needs_background": "light"
          }
        }
      ]
    },
    {
      "cell_type": "code",
      "source": [
        "bert_weight[np.argmax(mccs)]"
      ],
      "metadata": {
        "colab": {
          "base_uri": "https://localhost:8080/"
        },
        "id": "wc9a-sb9NKj_",
        "outputId": "28d34d0e-b0d6-4c6e-d42c-04076fc188f8"
      },
      "execution_count": 391,
      "outputs": [
        {
          "output_type": "execute_result",
          "data": {
            "text/plain": [
              "0.4880000000000001"
            ]
          },
          "metadata": {},
          "execution_count": 391
        }
      ]
    },
    {
      "cell_type": "markdown",
      "source": [
        "So we choose to give the DistilBERT model a weighting of 48.8%."
      ],
      "metadata": {
        "id": "DS4c5WmAQYKw"
      }
    },
    {
      "cell_type": "code",
      "source": [
        "final_ensemble_pred_probs = np.add(ensemble_pred_probs * 0.512, distilbert_pred_prob_1 * 0.488)\n",
        "\n",
        "# Get the binary classification prediction from prediction probability\n",
        "final_ensemble_predictions = (final_ensemble_pred_probs > 0.5).astype(int)"
      ],
      "metadata": {
        "id": "9fmc26VIV6zC"
      },
      "execution_count": 403,
      "outputs": []
    },
    {
      "cell_type": "code",
      "source": [
        "print(f\"Accuracy: {round(accuracy_score(target, final_ensemble_predictions), 3)}\")\n",
        "print(f\"Precision: {round(precision_score(target, final_ensemble_predictions), 3)}\")\n",
        "print(f\"Recall: {round(recall_score(target, final_ensemble_predictions), 3)}\")\n",
        "\n",
        "print(f\"MCC: {round(matthews_corrcoef(target, final_ensemble_predictions), 3)}\")"
      ],
      "metadata": {
        "colab": {
          "base_uri": "https://localhost:8080/"
        },
        "outputId": "e9b824fe-f394-4fc1-b9d3-6d07b04c1b3a",
        "id": "PdW6n1juWCUl"
      },
      "execution_count": 404,
      "outputs": [
        {
          "output_type": "stream",
          "name": "stdout",
          "text": [
            "Accuracy: 0.928\n",
            "Precision: 0.938\n",
            "Recall: 0.908\n",
            "MCC: 0.855\n"
          ]
        }
      ]
    },
    {
      "cell_type": "markdown",
      "source": [
        "###### Confusion Matrix"
      ],
      "metadata": {
        "id": "9hnpoB2yXG9D"
      }
    },
    {
      "cell_type": "code",
      "source": [
        "disp = ConfusionMatrixDisplay(confusion_matrix=confusion_matrix(target, final_ensemble_predictions))\n",
        "disp.plot()"
      ],
      "metadata": {
        "colab": {
          "base_uri": "https://localhost:8080/",
          "height": 299
        },
        "id": "XCLJLS2WXLg9",
        "outputId": "9a827bbf-3ec8-477f-c7f8-bdcdd10a0096"
      },
      "execution_count": 405,
      "outputs": [
        {
          "output_type": "execute_result",
          "data": {
            "text/plain": [
              "<sklearn.metrics._plot.confusion_matrix.ConfusionMatrixDisplay at 0x7fb1b3d21090>"
            ]
          },
          "metadata": {},
          "execution_count": 405
        },
        {
          "output_type": "display_data",
          "data": {
            "text/plain": [
              "<Figure size 432x288 with 2 Axes>"
            ],
            "image/png": "[encoded data removed]"
          },
          "metadata": {
            "needs_background": "light"
          }
        }
      ]
    }
  ]
}